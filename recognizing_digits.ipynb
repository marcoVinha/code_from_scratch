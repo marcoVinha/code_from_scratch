{
  "nbformat": 4,
  "nbformat_minor": 0,
  "metadata": {
    "colab": {
      "provenance": []
    },
    "kernelspec": {
      "name": "python3",
      "display_name": "Python 3"
    },
    "language_info": {
      "name": "python"
    }
  },
  "cells": [
    {
      "cell_type": "markdown",
      "source": [
        "# Imports and such"
      ],
      "metadata": {
        "id": "sMCaVRiT7TnP"
      }
    },
    {
      "cell_type": "code",
      "execution_count": null,
      "metadata": {
        "id": "g8KI7cPC7D9t"
      },
      "outputs": [],
      "source": [
        "import numpy as np\n",
        "import torch\n",
        "import torch.nn as nn\n",
        "import torch.optim as optim\n",
        "import tqdm\n",
        "\n",
        "from sklearn import datasets, metrics\n",
        "from sklearn.model_selection import train_test_split\n",
        "from sklearn.preprocessing import MinMaxScaler, OneHotEncoder"
      ]
    },
    {
      "cell_type": "code",
      "source": [
        "RANDOM_STATE = 42"
      ],
      "metadata": {
        "id": "4lRSQhyW7r0n"
      },
      "execution_count": null,
      "outputs": []
    },
    {
      "cell_type": "markdown",
      "source": [
        "# Preparing dataset"
      ],
      "metadata": {
        "id": "KGiOTdUe7KJW"
      }
    },
    {
      "cell_type": "code",
      "source": [
        "# Loading dataset\n",
        "digits = datasets.load_digits()\n",
        "n_samples = len(digits.images)\n",
        "\n",
        "# Flattening dataset as a single input vector\n",
        "data = digits.images.reshape((n_samples, -1))"
      ],
      "metadata": {
        "id": "jedC4cob7Sdv"
      },
      "execution_count": null,
      "outputs": []
    },
    {
      "cell_type": "code",
      "source": [
        "X_train, X_test, y_train, y_test = train_test_split(\n",
        "    data, digits.target, test_size=0.3, stratify=digits.target, random_state=RANDOM_STATE\n",
        ")\n",
        "\n",
        "input_dim = X_train[0].shape[0]\n",
        "output_dim = len(np.unique(y_train))"
      ],
      "metadata": {
        "id": "jYzjwUOD7Yed"
      },
      "execution_count": null,
      "outputs": []
    },
    {
      "cell_type": "code",
      "source": [
        "scaler = MinMaxScaler()\n",
        "\n",
        "X_train = scaler.fit_transform(X_train)\n",
        "X_test = scaler.transform(X_test)"
      ],
      "metadata": {
        "id": "VGBIuRko8TQ2"
      },
      "execution_count": null,
      "outputs": []
    },
    {
      "cell_type": "code",
      "source": [
        "encoder = OneHotEncoder(sparse_output=False)\n",
        "\n",
        "y_train = encoder.fit_transform(y_train.reshape(-1, 1))"
      ],
      "metadata": {
        "id": "AsgQixrWBfMI"
      },
      "execution_count": null,
      "outputs": []
    },
    {
      "cell_type": "code",
      "source": [
        "X_train = torch.tensor(X_train, dtype=torch.float32)\n",
        "y_train = torch.tensor(y_train, dtype=torch.float32)\n",
        "\n",
        "X_test = torch.tensor(X_test, dtype=torch.float32)\n",
        "y_test = torch.tensor(y_test, dtype=torch.float32)"
      ],
      "metadata": {
        "id": "hT5KLPeN8A7O"
      },
      "execution_count": null,
      "outputs": []
    },
    {
      "cell_type": "code",
      "source": [
        "print(X_train.shape, y_train.shape)\n",
        "print(X_test.shape, y_test.shape)"
      ],
      "metadata": {
        "colab": {
          "base_uri": "https://localhost:8080/"
        },
        "id": "4XwTEQJsEOMQ",
        "outputId": "b659fd3d-6f98-4384-e260-ae422372a413"
      },
      "execution_count": null,
      "outputs": [
        {
          "output_type": "stream",
          "name": "stdout",
          "text": [
            "torch.Size([1257, 64]) torch.Size([1257, 10])\n",
            "torch.Size([540, 64]) torch.Size([540])\n"
          ]
        }
      ]
    },
    {
      "cell_type": "markdown",
      "source": [
        "# Defining model"
      ],
      "metadata": {
        "id": "6AXs0_tQ71D-"
      }
    },
    {
      "cell_type": "code",
      "source": [
        "input_dim, output_dim"
      ],
      "metadata": {
        "colab": {
          "base_uri": "https://localhost:8080/"
        },
        "id": "dAmpz1uT_kEi",
        "outputId": "860e93ea-4048-4aef-e96d-97a8094b7d07"
      },
      "execution_count": null,
      "outputs": [
        {
          "output_type": "execute_result",
          "data": {
            "text/plain": [
              "(64, 10)"
            ]
          },
          "metadata": {},
          "execution_count": 9
        }
      ]
    },
    {
      "cell_type": "code",
      "source": [
        "model = nn.Sequential(\n",
        "    nn.Linear(input_dim, 32),\n",
        "    nn.ReLU(),\n",
        "    nn.Linear(32, 16),\n",
        "    nn.ReLU(),\n",
        "    nn.Linear(16, output_dim),\n",
        "    nn.LogSoftmax(dim=1)\n",
        ")\n",
        "\n",
        "model"
      ],
      "metadata": {
        "colab": {
          "base_uri": "https://localhost:8080/"
        },
        "id": "Ps43qb1V72Yt",
        "outputId": "1dfcc64b-1f4a-47fd-cab5-e030db23a5d9"
      },
      "execution_count": null,
      "outputs": [
        {
          "output_type": "execute_result",
          "data": {
            "text/plain": [
              "Sequential(\n",
              "  (0): Linear(in_features=64, out_features=32, bias=True)\n",
              "  (1): ReLU()\n",
              "  (2): Linear(in_features=32, out_features=16, bias=True)\n",
              "  (3): ReLU()\n",
              "  (4): Linear(in_features=16, out_features=10, bias=True)\n",
              "  (5): LogSoftmax(dim=1)\n",
              ")"
            ]
          },
          "metadata": {},
          "execution_count": 10
        }
      ]
    },
    {
      "cell_type": "code",
      "source": [
        "loss_fn = nn.CrossEntropyLoss()"
      ],
      "metadata": {
        "id": "M0UN0eX0_bJF"
      },
      "execution_count": null,
      "outputs": []
    },
    {
      "cell_type": "code",
      "source": [
        "optimizer = optim.Adam(model.parameters(), lr=0.005)"
      ],
      "metadata": {
        "id": "pfIL6u8RAQ-Q"
      },
      "execution_count": null,
      "outputs": []
    },
    {
      "cell_type": "markdown",
      "source": [
        "# Defining training loop"
      ],
      "metadata": {
        "id": "YvF69-rCAYxH"
      }
    },
    {
      "cell_type": "code",
      "source": [
        "epochs = 10\n",
        "batch_size = 3\n",
        "batches_per_epoch = len(X_train) // batch_size"
      ],
      "metadata": {
        "id": "_olzj7NVAXRN"
      },
      "execution_count": null,
      "outputs": []
    },
    {
      "cell_type": "code",
      "source": [
        "for e in range(epochs):\n",
        "  with tqdm.trange(batches_per_epoch, unit=\"batch\", mininterval=0) as bar:\n",
        "    bar.set_description(f\"Epoch {e}\")\n",
        "\n",
        "    for i in bar:\n",
        "      # Get current batch\n",
        "      start = i * batch_size\n",
        "      X_batch = X_train[start:start+batch_size]\n",
        "      y_batch = y_train[start:start+batch_size]\n",
        "\n",
        "      # Forward pass\n",
        "      curr_y_pred = model(X_batch)\n",
        "      loss_val = loss_fn(curr_y_pred, y_batch)\n",
        "\n",
        "      # Backward pass\n",
        "      optimizer.zero_grad()\n",
        "      loss_val.backward()\n",
        "      optimizer.step()\n"
      ],
      "metadata": {
        "colab": {
          "base_uri": "https://localhost:8080/"
        },
        "collapsed": true,
        "id": "6xCfU3iAAg5d",
        "outputId": "ff36cc0a-aa1f-4191-e075-3119290ea6fe"
      },
      "execution_count": null,
      "outputs": [
        {
          "output_type": "stream",
          "name": "stderr",
          "text": [
            "Epoch 0: 100%|██████████| 419/419 [00:04<00:00, 85.82batch/s]\n",
            "Epoch 1: 100%|██████████| 419/419 [00:05<00:00, 80.41batch/s] \n",
            "Epoch 2: 100%|██████████| 419/419 [00:03<00:00, 121.58batch/s]\n",
            "Epoch 3: 100%|██████████| 419/419 [00:05<00:00, 81.98batch/s] \n",
            "Epoch 4: 100%|██████████| 419/419 [00:03<00:00, 116.91batch/s]\n",
            "Epoch 5: 100%|██████████| 419/419 [00:04<00:00, 102.96batch/s]\n",
            "Epoch 6: 100%|██████████| 419/419 [00:06<00:00, 66.84batch/s]\n",
            "Epoch 7: 100%|██████████| 419/419 [00:03<00:00, 128.50batch/s]\n",
            "Epoch 8: 100%|██████████| 419/419 [00:02<00:00, 159.44batch/s]\n",
            "Epoch 9: 100%|██████████| 419/419 [00:02<00:00, 162.89batch/s]\n"
          ]
        }
      ]
    },
    {
      "cell_type": "markdown",
      "source": [
        "# Evaluate model"
      ],
      "metadata": {
        "id": "GxFNVDbOCtSh"
      }
    },
    {
      "cell_type": "code",
      "source": [
        "with torch.no_grad():\n",
        "  y_pred = model(X_test)"
      ],
      "metadata": {
        "id": "pQZAi2DCCXC9"
      },
      "execution_count": null,
      "outputs": []
    },
    {
      "cell_type": "code",
      "source": [
        "print(metrics.classification_report(y_test, y_pred.argmax(1)))"
      ],
      "metadata": {
        "colab": {
          "base_uri": "https://localhost:8080/"
        },
        "id": "1TNAQLC9Czpn",
        "outputId": "476a1ee6-69f1-4d91-c328-9e4224b4936e"
      },
      "execution_count": null,
      "outputs": [
        {
          "output_type": "stream",
          "name": "stdout",
          "text": [
            "              precision    recall  f1-score   support\n",
            "\n",
            "         0.0       1.00      0.98      0.99        54\n",
            "         1.0       0.92      0.89      0.91        55\n",
            "         2.0       0.91      0.98      0.95        53\n",
            "         3.0       0.95      1.00      0.97        55\n",
            "         4.0       0.96      0.96      0.96        54\n",
            "         5.0       1.00      0.95      0.97        55\n",
            "         6.0       0.98      0.98      0.98        54\n",
            "         7.0       1.00      0.94      0.97        54\n",
            "         8.0       0.92      0.88      0.90        52\n",
            "         9.0       0.93      1.00      0.96        54\n",
            "\n",
            "    accuracy                           0.96       540\n",
            "   macro avg       0.96      0.96      0.96       540\n",
            "weighted avg       0.96      0.96      0.96       540\n",
            "\n"
          ]
        }
      ]
    }
  ]
}
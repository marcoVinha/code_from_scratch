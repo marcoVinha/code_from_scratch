{
  "nbformat": 4,
  "nbformat_minor": 0,
  "metadata": {
    "colab": {
      "provenance": []
    },
    "kernelspec": {
      "name": "python3",
      "display_name": "Python 3"
    },
    "language_info": {
      "name": "python"
    }
  },
  "cells": [
    {
      "cell_type": "code",
      "execution_count": null,
      "metadata": {
        "id": "MW_9wgyu0UYs"
      },
      "outputs": [],
      "source": [
        "import numpy as np\n",
        "import scipy.stats\n",
        "\n",
        "from abc import ABC, abstractmethod\n",
        "from typing import List, Tuple"
      ]
    },
    {
      "cell_type": "code",
      "source": [
        "RANDOM_STATE = 42"
      ],
      "metadata": {
        "id": "6nqFPFlH6_nD"
      },
      "execution_count": null,
      "outputs": []
    },
    {
      "cell_type": "markdown",
      "source": [
        "## Define KNNRegressor and KNNClassifier models"
      ],
      "metadata": {
        "id": "mYl2Vi4C6kFL"
      }
    },
    {
      "cell_type": "code",
      "source": [
        "class KNNModel(ABC):\n",
        "  def __init__(self, n_neighbors: int):\n",
        "    self.n_neighbors = n_neighbors\n",
        "\n",
        "  def fit(self, X: np.array, y: np.array):\n",
        "    \"\"\"\n",
        "    Memorizes the training samples.\n",
        "    \"\"\"\n",
        "    self.X = X\n",
        "    self.y = y\n",
        "\n",
        "  @abstractmethod\n",
        "  def _get_prediction_for_sample(self, k_nearest_neighbors: list):\n",
        "    pass\n",
        "\n",
        "  def predict(self, X: np.array):\n",
        "    \"\"\"\n",
        "    Predicts label for new samples.\n",
        "    \"\"\"\n",
        "\n",
        "    # List of predictions\n",
        "    predictions = []\n",
        "\n",
        "    for i in range(len(X)):\n",
        "      curr_sample = X[i]\n",
        "      k_nearest_neighbors = self.get_neighbors(curr_sample)\n",
        "      prediction = self._get_prediction_for_sample(k_nearest_neighbors)\n",
        "      predictions.append(prediction)\n",
        "\n",
        "    return np.array(predictions)\n",
        "\n",
        "\n",
        "  def get_distance(self, point_a: np.array, point_b: np.array):\n",
        "    \"\"\"\n",
        "    Helper function to calculate distance between two samples:\n",
        "\n",
        "    dist(a,b) = sqrt(summatory((a_i - b_i)^2))\n",
        "    \"\"\"\n",
        "    return np.sum((point_a - point_b) ** 2) ** .5\n",
        "\n",
        "  def get_neighbors(self, new_sample: np.array):\n",
        "    \"\"\"\n",
        "    Helper function to find and rank neighbors by distance.\n",
        "\n",
        "    1. Calculate distances between the new sample and every other point.\n",
        "    2. Sort seen points by distance.\n",
        "    3. Return indices of the `self.n_neighbors` closest\n",
        "      points to the new sample\n",
        "    \"\"\"\n",
        "\n",
        "    # List that stores a tuple containing (sample_id, sample_distance)\n",
        "    distances: List[Tuple[int, float]] = []\n",
        "\n",
        "    # 1. Calculate distances between the new sample and every other point.\n",
        "    for i in range(len(self.X)):\n",
        "      curr_dist = self.get_distance(new_sample, self.X[i])\n",
        "      distances.append((i, curr_dist))\n",
        "\n",
        "    # 2. Sort seen points by distance.\n",
        "    distances.sort(key=lambda x: x[1])\n",
        "\n",
        "    # 3. Return indices of the `self.n_neighbors` closest neighbors\n",
        "    return [i[0] for i in distances[:self.n_neighbors]]\n"
      ],
      "metadata": {
        "id": "YtzapJvM48J7"
      },
      "execution_count": null,
      "outputs": []
    },
    {
      "cell_type": "code",
      "source": [
        "class KNNRegressor(KNNModel):\n",
        "  def _get_prediction_for_sample(self, k_nearest_neighbors: list):\n",
        "    k_y_values  = self.y[k_nearest_neighbors]\n",
        "    return sum(k_y_values) / self.n_neighbors\n"
      ],
      "metadata": {
        "id": "8XHL7Zjx0wRi"
      },
      "execution_count": null,
      "outputs": []
    },
    {
      "cell_type": "code",
      "source": [
        "class KNNClassifier(KNNModel):\n",
        "  def _get_prediction_for_sample(self, k_nearest_neighbors: list):\n",
        "    k_y_values = self.y[k_nearest_neighbors]\n",
        "    return scipy.stats.mode(k_y_values)[0]"
      ],
      "metadata": {
        "id": "B3mM3aPO1CSp"
      },
      "execution_count": null,
      "outputs": []
    },
    {
      "cell_type": "markdown",
      "source": [
        "## Regression"
      ],
      "metadata": {
        "id": "zINr74EU6o7C"
      }
    },
    {
      "cell_type": "markdown",
      "source": [
        "### Prepare data"
      ],
      "metadata": {
        "id": "znWWaLOY8tjb"
      }
    },
    {
      "cell_type": "code",
      "source": [
        "from sklearn.datasets import make_regression\n",
        "from sklearn.model_selection import train_test_split\n",
        "\n",
        "reg_X, reg_y = make_regression(\n",
        "  n_targets=1,\n",
        "  n_samples=500,\n",
        "  n_features=20,\n",
        "  n_informative=15,\n",
        "  random_state=RANDOM_STATE\n",
        ")\n",
        "\n",
        "reg_X_train, reg_X_test, reg_y_train, reg_y_test = train_test_split(\n",
        "  reg_X, reg_y, test_size=.3, random_state=RANDOM_STATE\n",
        ")"
      ],
      "metadata": {
        "id": "VMQyLahH6h6C"
      },
      "execution_count": null,
      "outputs": []
    },
    {
      "cell_type": "code",
      "source": [
        "reg_X_train.shape, reg_X_test.shape"
      ],
      "metadata": {
        "colab": {
          "base_uri": "https://localhost:8080/"
        },
        "id": "RRpPqjTc7qQy",
        "outputId": "59839d05-08b5-42b2-a87a-ceb6a4886a9a"
      },
      "execution_count": null,
      "outputs": [
        {
          "output_type": "execute_result",
          "data": {
            "text/plain": [
              "((350, 20), (150, 20))"
            ]
          },
          "metadata": {},
          "execution_count": 7
        }
      ]
    },
    {
      "cell_type": "markdown",
      "source": [
        "### Define model"
      ],
      "metadata": {
        "id": "07H-Ffmx8vRK"
      }
    },
    {
      "cell_type": "code",
      "source": [
        "regressor = KNNRegressor(n_neighbors=10)"
      ],
      "metadata": {
        "id": "bCRwcd8Z7sHh"
      },
      "execution_count": null,
      "outputs": []
    },
    {
      "cell_type": "code",
      "source": [
        "regressor.fit(reg_X_train, reg_y_train)"
      ],
      "metadata": {
        "id": "fMMDZt7w8blC"
      },
      "execution_count": null,
      "outputs": []
    },
    {
      "cell_type": "markdown",
      "source": [
        "### Evaluate performance"
      ],
      "metadata": {
        "id": "BNDoTSqW80Pi"
      }
    },
    {
      "cell_type": "code",
      "source": [
        "from sklearn.metrics import mean_squared_error\n",
        "\n",
        "reg_y_pred = regressor.predict(reg_X_test)\n",
        "\n",
        "print(mean_squared_error(reg_y_test, reg_y_pred, squared=False))"
      ],
      "metadata": {
        "colab": {
          "base_uri": "https://localhost:8080/"
        },
        "id": "mQO38rzt820g",
        "outputId": "0070a2c3-171f-4790-e90e-a7dbb547aebc"
      },
      "execution_count": null,
      "outputs": [
        {
          "output_type": "stream",
          "name": "stdout",
          "text": [
            "139.12043248353768\n"
          ]
        }
      ]
    },
    {
      "cell_type": "markdown",
      "source": [
        "## Classification"
      ],
      "metadata": {
        "id": "nGHv6CWzAtMj"
      }
    },
    {
      "cell_type": "markdown",
      "source": [
        "### Prepare data"
      ],
      "metadata": {
        "id": "SsM3N_QIBGez"
      }
    },
    {
      "cell_type": "code",
      "source": [
        "from sklearn.datasets import make_classification\n",
        "from sklearn.model_selection import train_test_split\n",
        "\n",
        "clf_X, clf_y = make_classification(\n",
        "  n_samples=500,\n",
        "  n_features=20,\n",
        "  n_informative=15,\n",
        "  random_state=RANDOM_STATE,\n",
        ")\n",
        "\n",
        "clf_X_train, clf_X_test, clf_y_train, clf_y_test = train_test_split(\n",
        "  clf_X, clf_y, test_size=.3, random_state=RANDOM_STATE\n",
        ")"
      ],
      "metadata": {
        "id": "F3jegJEWAunK"
      },
      "execution_count": null,
      "outputs": []
    },
    {
      "cell_type": "code",
      "source": [
        "clf_X_train.shape, clf_X_test.shape"
      ],
      "metadata": {
        "colab": {
          "base_uri": "https://localhost:8080/"
        },
        "id": "pKswDZoZBCNB",
        "outputId": "5fe7134b-8f0e-4d52-bdfd-fa050aaf67d5"
      },
      "execution_count": null,
      "outputs": [
        {
          "output_type": "execute_result",
          "data": {
            "text/plain": [
              "((350, 20), (150, 20))"
            ]
          },
          "metadata": {},
          "execution_count": 12
        }
      ]
    },
    {
      "cell_type": "markdown",
      "source": [
        "### Define model"
      ],
      "metadata": {
        "id": "y17qB4ucBMXz"
      }
    },
    {
      "cell_type": "code",
      "source": [
        "classifier = KNNClassifier(n_neighbors=10)"
      ],
      "metadata": {
        "id": "6JjQLlUwBKgq"
      },
      "execution_count": null,
      "outputs": []
    },
    {
      "cell_type": "code",
      "source": [
        "classifier.fit(clf_X_train, clf_y_train)"
      ],
      "metadata": {
        "id": "luK3KGxEBQdi"
      },
      "execution_count": null,
      "outputs": []
    },
    {
      "cell_type": "markdown",
      "source": [
        "### Evaluate performance"
      ],
      "metadata": {
        "id": "sD7c2mveBW_z"
      }
    },
    {
      "cell_type": "code",
      "source": [
        "from sklearn.metrics import f1_score\n",
        "\n",
        "clf_y_pred = classifier.predict(clf_X_test)\n",
        "\n",
        "print(f1_score(clf_y_test, clf_y_pred))"
      ],
      "metadata": {
        "colab": {
          "base_uri": "https://localhost:8080/"
        },
        "id": "KKArL_bbBTlq",
        "outputId": "d6c0beb9-4cdc-40ad-9f69-6217cbc454a9"
      },
      "execution_count": null,
      "outputs": [
        {
          "output_type": "stream",
          "name": "stdout",
          "text": [
            "0.835820895522388\n"
          ]
        }
      ]
    }
  ]
}